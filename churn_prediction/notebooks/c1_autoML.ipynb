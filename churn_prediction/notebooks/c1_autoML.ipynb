{
 "cells": [
  {
   "cell_type": "markdown",
   "metadata": {},
   "source": [
    "# Client Churn Prediction\n",
    "### CRISP-DM Cycle 3\n",
    "---\n",
    "\n",
    "> Disclaimer: This is a fictional bussiness case"
   ]
  },
  {
   "cell_type": "markdown",
   "metadata": {},
   "source": [
    "## Settings"
   ]
  },
  {
   "cell_type": "code",
   "execution_count": 1,
   "metadata": {},
   "outputs": [],
   "source": [
    "# Settings imports\n",
    "import os\n",
    "import sys\n",
    "import h2o\n",
    "\n",
    "from dotenv import load_dotenv\n",
    "\n",
    "# Load .env file\n",
    "env_path = \"../.env\"\n",
    "load_dotenv(dotenv_path=env_path)\n",
    "\n",
    "# Seed\n",
    "seed = int(os.getenv(\"SEED\"))\n",
    "\n",
    "# Add path\n",
    "path = os.getenv(\"HOMEPATH\")\n",
    "\n",
    "# Add path to sys.path\n",
    "sys.path.append(path)"
   ]
  },
  {
   "cell_type": "code",
   "execution_count": 2,
   "metadata": {},
   "outputs": [],
   "source": [
    "import pandas as pd\n",
    "from h2o.automl import H2OAutoML\n",
    "from helpers.classes.FeatureEngineering import FeatureEngineering\n",
    "from helpers.classes.Queries import DuckQueries"
   ]
  },
  {
   "cell_type": "markdown",
   "metadata": {},
   "source": [
    "## Data\n",
    "\n",
    "This dataset is avaliable [here](https://www.kaggle.com/mervetorkan/churndataset).\n",
    "\n",
    "\n",
    "**Data fields**\n",
    "\n",
    "- **RowNumber**: the number of the columns\n",
    "- **CustomerID**: unique identifier of clients\n",
    "- **Surname**: client's last name\n",
    "- **CreditScore**: clien'ts credit score for the financial market\n",
    "- **Geography**: the country of the client\n",
    "- **Gender**: the gender of the client\n",
    "- **Age**: the client's age\n",
    "- **Tenure**: number of years the client is in the bank \n",
    "- **Balance**: the amount that the client has in their account \n",
    "- **NumOfProducts**: the number of products that the client bought \n",
    "- **HasCrCard**: if the client has a credit card \n",
    "- **IsActiveMember**: if the client is active (within the last 12 months) \n",
    "- **EstimateSalary**: estimative of anual salary of clients \n",
    "- **Exited**: if the client is a churn (*target variable*)"
   ]
  },
  {
   "cell_type": "code",
   "execution_count": 3,
   "metadata": {},
   "outputs": [],
   "source": [
    "qb = DuckQueries()\n",
    "conn = qb.get_connection(path + \"/data/interim/churn.db\")\n",
    "\n",
    "query = qb.select(\"*\").from_table(\"churn\").build()\n",
    "data = conn.execute(query).df()\n",
    "conn.close()\n",
    "\n",
    "fe = FeatureEngineering(seed=seed)\n",
    "X_train, X_test, X_val, y_train, y_test, y_val, id_train, id_test, id_val = (\n",
    "    fe.transform(data)\n",
    ")"
   ]
  },
  {
   "cell_type": "markdown",
   "metadata": {},
   "source": [
    "## AutoML"
   ]
  },
  {
   "cell_type": "code",
   "execution_count": 4,
   "metadata": {},
   "outputs": [
    {
     "name": "stdout",
     "output_type": "stream",
     "text": [
      "Checking whether there is an H2O instance running at http://localhost:54321..... not found.\n",
      "Attempting to start a local H2O server...\n",
      "  Java Version: openjdk version \"21.0.1\" 2023-10-17; OpenJDK Runtime Environment (build 21.0.1+12-29); OpenJDK 64-Bit Server VM (build 21.0.1+12-29, mixed mode, sharing)\n",
      "  Starting server from /Users/guttofranca/Repos/churn-prediction/.venv/lib/python3.12/site-packages/h2o/backend/bin/h2o.jar\n",
      "  Ice root: /var/folders/k8/xr4_svzj4l705syzgn21x_500000gn/T/tmpl9gaoulf\n",
      "  JVM stdout: /var/folders/k8/xr4_svzj4l705syzgn21x_500000gn/T/tmpl9gaoulf/h2o_guttofranca_started_from_python.out\n",
      "  JVM stderr: /var/folders/k8/xr4_svzj4l705syzgn21x_500000gn/T/tmpl9gaoulf/h2o_guttofranca_started_from_python.err\n",
      "  Server is running at http://127.0.0.1:54321\n",
      "Connecting to H2O server at http://127.0.0.1:54321 ... successful.\n"
     ]
    },
    {
     "data": {
      "text/html": [
       "\n",
       "<style>\n",
       "\n",
       "#h2o-table-1.h2o-container {\n",
       "  overflow-x: auto;\n",
       "}\n",
       "#h2o-table-1 .h2o-table {\n",
       "  /* width: 100%; */\n",
       "  margin-top: 1em;\n",
       "  margin-bottom: 1em;\n",
       "}\n",
       "#h2o-table-1 .h2o-table caption {\n",
       "  white-space: nowrap;\n",
       "  caption-side: top;\n",
       "  text-align: left;\n",
       "  /* margin-left: 1em; */\n",
       "  margin: 0;\n",
       "  font-size: larger;\n",
       "}\n",
       "#h2o-table-1 .h2o-table thead {\n",
       "  white-space: nowrap; \n",
       "  position: sticky;\n",
       "  top: 0;\n",
       "  box-shadow: 0 -1px inset;\n",
       "}\n",
       "#h2o-table-1 .h2o-table tbody {\n",
       "  overflow: auto;\n",
       "}\n",
       "#h2o-table-1 .h2o-table th,\n",
       "#h2o-table-1 .h2o-table td {\n",
       "  text-align: right;\n",
       "  /* border: 1px solid; */\n",
       "}\n",
       "#h2o-table-1 .h2o-table tr:nth-child(even) {\n",
       "  /* background: #F5F5F5 */\n",
       "}\n",
       "\n",
       "</style>      \n",
       "<div id=\"h2o-table-1\" class=\"h2o-container\">\n",
       "  <table class=\"h2o-table\">\n",
       "    <caption></caption>\n",
       "    <thead></thead>\n",
       "    <tbody><tr><td>H2O_cluster_uptime:</td>\n",
       "<td>01 secs</td></tr>\n",
       "<tr><td>H2O_cluster_timezone:</td>\n",
       "<td>America/Recife</td></tr>\n",
       "<tr><td>H2O_data_parsing_timezone:</td>\n",
       "<td>UTC</td></tr>\n",
       "<tr><td>H2O_cluster_version:</td>\n",
       "<td>3.46.0.1</td></tr>\n",
       "<tr><td>H2O_cluster_version_age:</td>\n",
       "<td>1 month and 20 days</td></tr>\n",
       "<tr><td>H2O_cluster_name:</td>\n",
       "<td>H2O_from_python_guttofranca_1dgodk</td></tr>\n",
       "<tr><td>H2O_cluster_total_nodes:</td>\n",
       "<td>1</td></tr>\n",
       "<tr><td>H2O_cluster_free_memory:</td>\n",
       "<td>1.984 Gb</td></tr>\n",
       "<tr><td>H2O_cluster_total_cores:</td>\n",
       "<td>8</td></tr>\n",
       "<tr><td>H2O_cluster_allowed_cores:</td>\n",
       "<td>8</td></tr>\n",
       "<tr><td>H2O_cluster_status:</td>\n",
       "<td>locked, healthy</td></tr>\n",
       "<tr><td>H2O_connection_url:</td>\n",
       "<td>http://127.0.0.1:54321</td></tr>\n",
       "<tr><td>H2O_connection_proxy:</td>\n",
       "<td>{\"http\": null, \"https\": null}</td></tr>\n",
       "<tr><td>H2O_internal_security:</td>\n",
       "<td>False</td></tr>\n",
       "<tr><td>Python_version:</td>\n",
       "<td>3.12.2 final</td></tr></tbody>\n",
       "  </table>\n",
       "</div>\n"
      ],
      "text/plain": [
       "--------------------------  ----------------------------------\n",
       "H2O_cluster_uptime:         01 secs\n",
       "H2O_cluster_timezone:       America/Recife\n",
       "H2O_data_parsing_timezone:  UTC\n",
       "H2O_cluster_version:        3.46.0.1\n",
       "H2O_cluster_version_age:    1 month and 20 days\n",
       "H2O_cluster_name:           H2O_from_python_guttofranca_1dgodk\n",
       "H2O_cluster_total_nodes:    1\n",
       "H2O_cluster_free_memory:    1.984 Gb\n",
       "H2O_cluster_total_cores:    8\n",
       "H2O_cluster_allowed_cores:  8\n",
       "H2O_cluster_status:         locked, healthy\n",
       "H2O_connection_url:         http://127.0.0.1:54321\n",
       "H2O_connection_proxy:       {\"http\": null, \"https\": null}\n",
       "H2O_internal_security:      False\n",
       "Python_version:             3.12.2 final\n",
       "--------------------------  ----------------------------------"
      ]
     },
     "metadata": {},
     "output_type": "display_data"
    }
   ],
   "source": [
    "h2o.init(ip=\"localhost\", port=54321)"
   ]
  },
  {
   "cell_type": "code",
   "execution_count": 5,
   "metadata": {},
   "outputs": [
    {
     "name": "stdout",
     "output_type": "stream",
     "text": [
      "Parse progress: |████████████████████████████████████████████████████████████████| (done) 100%\n",
      "Parse progress: |████████████████████████████████████████████████████████████████| (done) 100%\n",
      "Parse progress: |████████████████████████████████████████████████████████████████| (done) 100%\n",
      "AutoML progress: |\n",
      "14:38:11.128: AutoML: XGBoost is not available; skipping it.\n",
      "\n",
      "███████████████████████████████████████████████████████████████| (done) 100%\n"
     ]
    },
    {
     "data": {
      "text/html": [
       "<table class='dataframe'>\n",
       "<thead>\n",
       "<tr><th>model_id                                            </th><th style=\"text-align: right;\">   aucpr</th><th style=\"text-align: right;\">     auc</th><th style=\"text-align: right;\">  logloss</th><th style=\"text-align: right;\">  mean_per_class_error</th><th style=\"text-align: right;\">    rmse</th><th style=\"text-align: right;\">      mse</th></tr>\n",
       "</thead>\n",
       "<tbody>\n",
       "<tr><td>GBM_grid_1_AutoML_1_20240504_143811_model_5         </td><td style=\"text-align: right;\">0.74424 </td><td style=\"text-align: right;\">0.870819</td><td style=\"text-align: right;\"> 0.320284</td><td style=\"text-align: right;\">              0.21831 </td><td style=\"text-align: right;\">0.308103</td><td style=\"text-align: right;\">0.0949272</td></tr>\n",
       "<tr><td>GBM_3_AutoML_1_20240504_143811                      </td><td style=\"text-align: right;\">0.74303 </td><td style=\"text-align: right;\">0.873922</td><td style=\"text-align: right;\"> 0.320832</td><td style=\"text-align: right;\">              0.219061</td><td style=\"text-align: right;\">0.308848</td><td style=\"text-align: right;\">0.0953873</td></tr>\n",
       "<tr><td>GBM_2_AutoML_1_20240504_143811                      </td><td style=\"text-align: right;\">0.740166</td><td style=\"text-align: right;\">0.876472</td><td style=\"text-align: right;\"> 0.319461</td><td style=\"text-align: right;\">              0.211018</td><td style=\"text-align: right;\">0.309257</td><td style=\"text-align: right;\">0.0956397</td></tr>\n",
       "<tr><td>GBM_grid_1_AutoML_1_20240504_143811_model_7         </td><td style=\"text-align: right;\">0.737233</td><td style=\"text-align: right;\">0.871382</td><td style=\"text-align: right;\"> 0.327352</td><td style=\"text-align: right;\">              0.201202</td><td style=\"text-align: right;\">0.312098</td><td style=\"text-align: right;\">0.0974049</td></tr>\n",
       "<tr><td>GBM_grid_1_AutoML_1_20240504_143811_model_4         </td><td style=\"text-align: right;\">0.733496</td><td style=\"text-align: right;\">0.872035</td><td style=\"text-align: right;\"> 0.324893</td><td style=\"text-align: right;\">              0.211326</td><td style=\"text-align: right;\">0.311555</td><td style=\"text-align: right;\">0.0970663</td></tr>\n",
       "<tr><td>GBM_grid_1_AutoML_1_20240504_143811_model_6         </td><td style=\"text-align: right;\">0.732369</td><td style=\"text-align: right;\">0.874458</td><td style=\"text-align: right;\"> 0.325087</td><td style=\"text-align: right;\">              0.200266</td><td style=\"text-align: right;\">0.311552</td><td style=\"text-align: right;\">0.0970643</td></tr>\n",
       "<tr><td>GBM_1_AutoML_1_20240504_143811                      </td><td style=\"text-align: right;\">0.731537</td><td style=\"text-align: right;\">0.876817</td><td style=\"text-align: right;\"> 0.323477</td><td style=\"text-align: right;\">              0.205735</td><td style=\"text-align: right;\">0.311509</td><td style=\"text-align: right;\">0.0970376</td></tr>\n",
       "<tr><td>GBM_4_AutoML_1_20240504_143811                      </td><td style=\"text-align: right;\">0.731065</td><td style=\"text-align: right;\">0.87641 </td><td style=\"text-align: right;\"> 0.322501</td><td style=\"text-align: right;\">              0.223212</td><td style=\"text-align: right;\">0.311291</td><td style=\"text-align: right;\">0.0969021</td></tr>\n",
       "<tr><td>DRF_1_AutoML_1_20240504_143811                      </td><td style=\"text-align: right;\">0.7265  </td><td style=\"text-align: right;\">0.869088</td><td style=\"text-align: right;\"> 0.363342</td><td style=\"text-align: right;\">              0.228742</td><td style=\"text-align: right;\">0.317486</td><td style=\"text-align: right;\">0.100797 </td></tr>\n",
       "<tr><td>GBM_grid_1_AutoML_1_20240504_143811_model_1         </td><td style=\"text-align: right;\">0.72618 </td><td style=\"text-align: right;\">0.863887</td><td style=\"text-align: right;\"> 0.331537</td><td style=\"text-align: right;\">              0.22044 </td><td style=\"text-align: right;\">0.314759</td><td style=\"text-align: right;\">0.0990731</td></tr>\n",
       "<tr><td>GBM_grid_1_AutoML_1_20240504_143811_model_9         </td><td style=\"text-align: right;\">0.72456 </td><td style=\"text-align: right;\">0.86176 </td><td style=\"text-align: right;\"> 0.333395</td><td style=\"text-align: right;\">              0.234838</td><td style=\"text-align: right;\">0.31551 </td><td style=\"text-align: right;\">0.0995466</td></tr>\n",
       "<tr><td>GBM_5_AutoML_1_20240504_143811                      </td><td style=\"text-align: right;\">0.724257</td><td style=\"text-align: right;\">0.870849</td><td style=\"text-align: right;\"> 0.326018</td><td style=\"text-align: right;\">              0.218999</td><td style=\"text-align: right;\">0.312463</td><td style=\"text-align: right;\">0.0976333</td></tr>\n",
       "<tr><td>GBM_grid_1_AutoML_1_20240504_143811_model_2         </td><td style=\"text-align: right;\">0.719498</td><td style=\"text-align: right;\">0.871933</td><td style=\"text-align: right;\"> 0.327752</td><td style=\"text-align: right;\">              0.206104</td><td style=\"text-align: right;\">0.31539 </td><td style=\"text-align: right;\">0.0994708</td></tr>\n",
       "<tr><td>GBM_grid_1_AutoML_1_20240504_143811_model_8         </td><td style=\"text-align: right;\">0.707789</td><td style=\"text-align: right;\">0.861138</td><td style=\"text-align: right;\"> 0.33553 </td><td style=\"text-align: right;\">              0.240184</td><td style=\"text-align: right;\">0.317043</td><td style=\"text-align: right;\">0.100517 </td></tr>\n",
       "<tr><td>XRT_1_AutoML_1_20240504_143811                      </td><td style=\"text-align: right;\">0.685141</td><td style=\"text-align: right;\">0.848433</td><td style=\"text-align: right;\"> 0.363958</td><td style=\"text-align: right;\">              0.220872</td><td style=\"text-align: right;\">0.331989</td><td style=\"text-align: right;\">0.110217 </td></tr>\n",
       "<tr><td>DeepLearning_1_AutoML_1_20240504_143811             </td><td style=\"text-align: right;\">0.683979</td><td style=\"text-align: right;\">0.848914</td><td style=\"text-align: right;\"> 0.372249</td><td style=\"text-align: right;\">              0.246896</td><td style=\"text-align: right;\">0.335426</td><td style=\"text-align: right;\">0.112511 </td></tr>\n",
       "<tr><td>GBM_grid_1_AutoML_1_20240504_143811_model_3         </td><td style=\"text-align: right;\">0.67546 </td><td style=\"text-align: right;\">0.846934</td><td style=\"text-align: right;\"> 0.366559</td><td style=\"text-align: right;\">              0.244642</td><td style=\"text-align: right;\">0.331512</td><td style=\"text-align: right;\">0.1099   </td></tr>\n",
       "<tr><td>DeepLearning_grid_1_AutoML_1_20240504_143811_model_1</td><td style=\"text-align: right;\">0.674719</td><td style=\"text-align: right;\">0.836425</td><td style=\"text-align: right;\"> 0.394497</td><td style=\"text-align: right;\">              0.259348</td><td style=\"text-align: right;\">0.332269</td><td style=\"text-align: right;\">0.110403 </td></tr>\n",
       "<tr><td>DeepLearning_grid_2_AutoML_1_20240504_143811_model_1</td><td style=\"text-align: right;\">0.632359</td><td style=\"text-align: right;\">0.812472</td><td style=\"text-align: right;\"> 0.481046</td><td style=\"text-align: right;\">              0.271283</td><td style=\"text-align: right;\">0.347322</td><td style=\"text-align: right;\">0.120632 </td></tr>\n",
       "<tr><td>DeepLearning_grid_1_AutoML_1_20240504_143811_model_3</td><td style=\"text-align: right;\">0.604664</td><td style=\"text-align: right;\">0.784776</td><td style=\"text-align: right;\"> 0.626813</td><td style=\"text-align: right;\">              0.289314</td><td style=\"text-align: right;\">0.368603</td><td style=\"text-align: right;\">0.135868 </td></tr>\n",
       "<tr><td>GLM_1_AutoML_1_20240504_143811                      </td><td style=\"text-align: right;\">0.556958</td><td style=\"text-align: right;\">0.791097</td><td style=\"text-align: right;\"> 0.441188</td><td style=\"text-align: right;\">              0.270901</td><td style=\"text-align: right;\">0.364404</td><td style=\"text-align: right;\">0.13279  </td></tr>\n",
       "<tr><td>DeepLearning_grid_2_AutoML_1_20240504_143811_model_2</td><td style=\"text-align: right;\">0.481996</td><td style=\"text-align: right;\">0.702384</td><td style=\"text-align: right;\"> 0.751008</td><td style=\"text-align: right;\">              0.344295</td><td style=\"text-align: right;\">0.455975</td><td style=\"text-align: right;\">0.207913 </td></tr>\n",
       "<tr><td>DeepLearning_grid_1_AutoML_1_20240504_143811_model_4</td><td style=\"text-align: right;\">0.458482</td><td style=\"text-align: right;\">0.734432</td><td style=\"text-align: right;\"> 1.15973 </td><td style=\"text-align: right;\">              0.316768</td><td style=\"text-align: right;\">0.415058</td><td style=\"text-align: right;\">0.172273 </td></tr>\n",
       "<tr><td>DeepLearning_grid_1_AutoML_1_20240504_143811_model_2</td><td style=\"text-align: right;\">0.242889</td><td style=\"text-align: right;\">0.596401</td><td style=\"text-align: right;\">26.1567  </td><td style=\"text-align: right;\">              0.399153</td><td style=\"text-align: right;\">0.891151</td><td style=\"text-align: right;\">0.79415  </td></tr>\n",
       "</tbody>\n",
       "</table><pre style='font-size: smaller; margin-bottom: 1em;'>[24 rows x 7 columns]</pre>"
      ],
      "text/plain": [
       "model_id                                                 aucpr       auc    logloss    mean_per_class_error      rmse        mse\n",
       "----------------------------------------------------  --------  --------  ---------  ----------------------  --------  ---------\n",
       "GBM_grid_1_AutoML_1_20240504_143811_model_5           0.74424   0.870819   0.320284                0.21831   0.308103  0.0949272\n",
       "GBM_3_AutoML_1_20240504_143811                        0.74303   0.873922   0.320832                0.219061  0.308848  0.0953873\n",
       "GBM_2_AutoML_1_20240504_143811                        0.740166  0.876472   0.319461                0.211018  0.309257  0.0956397\n",
       "GBM_grid_1_AutoML_1_20240504_143811_model_7           0.737233  0.871382   0.327352                0.201202  0.312098  0.0974049\n",
       "GBM_grid_1_AutoML_1_20240504_143811_model_4           0.733496  0.872035   0.324893                0.211326  0.311555  0.0970663\n",
       "GBM_grid_1_AutoML_1_20240504_143811_model_6           0.732369  0.874458   0.325087                0.200266  0.311552  0.0970643\n",
       "GBM_1_AutoML_1_20240504_143811                        0.731537  0.876817   0.323477                0.205735  0.311509  0.0970376\n",
       "GBM_4_AutoML_1_20240504_143811                        0.731065  0.87641    0.322501                0.223212  0.311291  0.0969021\n",
       "DRF_1_AutoML_1_20240504_143811                        0.7265    0.869088   0.363342                0.228742  0.317486  0.100797\n",
       "GBM_grid_1_AutoML_1_20240504_143811_model_1           0.72618   0.863887   0.331537                0.22044   0.314759  0.0990731\n",
       "GBM_grid_1_AutoML_1_20240504_143811_model_9           0.72456   0.86176    0.333395                0.234838  0.31551   0.0995466\n",
       "GBM_5_AutoML_1_20240504_143811                        0.724257  0.870849   0.326018                0.218999  0.312463  0.0976333\n",
       "GBM_grid_1_AutoML_1_20240504_143811_model_2           0.719498  0.871933   0.327752                0.206104  0.31539   0.0994708\n",
       "GBM_grid_1_AutoML_1_20240504_143811_model_8           0.707789  0.861138   0.33553                 0.240184  0.317043  0.100517\n",
       "XRT_1_AutoML_1_20240504_143811                        0.685141  0.848433   0.363958                0.220872  0.331989  0.110217\n",
       "DeepLearning_1_AutoML_1_20240504_143811               0.683979  0.848914   0.372249                0.246896  0.335426  0.112511\n",
       "GBM_grid_1_AutoML_1_20240504_143811_model_3           0.67546   0.846934   0.366559                0.244642  0.331512  0.1099\n",
       "DeepLearning_grid_1_AutoML_1_20240504_143811_model_1  0.674719  0.836425   0.394497                0.259348  0.332269  0.110403\n",
       "DeepLearning_grid_2_AutoML_1_20240504_143811_model_1  0.632359  0.812472   0.481046                0.271283  0.347322  0.120632\n",
       "DeepLearning_grid_1_AutoML_1_20240504_143811_model_3  0.604664  0.784776   0.626813                0.289314  0.368603  0.135868\n",
       "GLM_1_AutoML_1_20240504_143811                        0.556958  0.791097   0.441188                0.270901  0.364404  0.13279\n",
       "DeepLearning_grid_2_AutoML_1_20240504_143811_model_2  0.481996  0.702384   0.751008                0.344295  0.455975  0.207913\n",
       "DeepLearning_grid_1_AutoML_1_20240504_143811_model_4  0.458482  0.734432   1.15973                 0.316768  0.415058  0.172273\n",
       "DeepLearning_grid_1_AutoML_1_20240504_143811_model_2  0.242889  0.596401  26.1567                  0.399153  0.891151  0.79415\n",
       "[24 rows x 7 columns]\n"
      ]
     },
     "execution_count": 5,
     "metadata": {},
     "output_type": "execute_result"
    }
   ],
   "source": [
    "# Create a pandas dataframe\n",
    "train_df = pd.concat([X_train, y_train], axis=1)\n",
    "test_df = pd.concat([X_test, y_test], axis=1)\n",
    "val_df = pd.concat([X_val, y_val], axis=1)\n",
    "\n",
    "# Convert to h2o frame\n",
    "train_h2o = h2o.H2OFrame(train_df)\n",
    "test_h2o = h2o.H2OFrame(test_df)\n",
    "val_h2o = h2o.H2OFrame(val_df)\n",
    "\n",
    "# Target column\n",
    "target_column = train_h2o.columns[-1]\n",
    "train_h2o[target_column] = train_h2o[target_column].asfactor()\n",
    "test_h2o[target_column] = test_h2o[target_column].asfactor()\n",
    "val_h2o[target_column] = val_h2o[target_column].asfactor()\n",
    "\n",
    "# Feature columns\n",
    "feature_columns = train_h2o.columns[:-1]\n",
    "\n",
    "# Run AutoML\n",
    "aml = H2OAutoML(\n",
    "    max_models=30,\n",
    "    seed=seed,\n",
    "    max_runtime_secs=1800,\n",
    "    project_name=\"churn_automl\",\n",
    "    stopping_metric=\"logloss\",\n",
    "    sort_metric=\"aucpr\",\n",
    ")\n",
    "\n",
    "aml.train(\n",
    "    x=feature_columns,\n",
    "    y=target_column,\n",
    "    training_frame=train_h2o,\n",
    "    leaderboard_frame=val_h2o,\n",
    ")\n",
    "\n",
    "lb = aml.leaderboard\n",
    "lb.head(rows=lb.nrows)"
   ]
  },
  {
   "cell_type": "code",
   "execution_count": 6,
   "metadata": {},
   "outputs": [
    {
     "name": "stdout",
     "output_type": "stream",
     "text": [
      "                        variable  relative_importance  scaled_importance  \\\n",
      "0                    age_squared           604.003540           1.000000   \n",
      "1                            age           365.390930           0.604948   \n",
      "2   credit_score_num_of_products           310.314453           0.513763   \n",
      "3                num_of_products           301.617004           0.499363   \n",
      "4               engagement_score           239.261322           0.396126   \n",
      "5         credit_score_age_ratio           171.615387           0.284130   \n",
      "6               is_active_member           164.549850           0.272432   \n",
      "7      customer_value_normalized           158.298996           0.262083   \n",
      "8                        balance           147.048828           0.243457   \n",
      "9                      geography           144.798355           0.239731   \n",
      "10               product_density           129.396271           0.214231   \n",
      "11         salary_rank_geography           128.027847           0.211965   \n",
      "12                  credit_score           119.441231           0.197749   \n",
      "13                   age_balance           119.167145           0.197295   \n",
      "14              estimated_salary           113.762573           0.188348   \n",
      "15                  balance_sqrt           111.236206           0.184165   \n",
      "16              tenure_age_ratio           104.280624           0.172649   \n",
      "17                        tenure            81.180565           0.134404   \n",
      "18                   balance_age            66.066063           0.109380   \n",
      "19           credit_score_gender            42.783199           0.070833   \n",
      "20                        gender            35.766602           0.059216   \n",
      "21                   cs_category            23.733515           0.039294   \n",
      "22                  tenure_group            22.106241           0.036600   \n",
      "23                    life_stage            20.667763           0.034218   \n",
      "24                   has_cr_card            13.315618           0.022046   \n",
      "25          balance_salary_ratio            12.274675           0.020322   \n",
      "26           credit_salary_ratio            10.900950           0.018048   \n",
      "27             balance_indicator            10.122936           0.016760   \n",
      "\n",
      "    percentage  \n",
      "0     0.160165  \n",
      "1     0.096892  \n",
      "2     0.082287  \n",
      "3     0.079981  \n",
      "4     0.063446  \n",
      "5     0.045508  \n",
      "6     0.043634  \n",
      "7     0.041977  \n",
      "8     0.038993  \n",
      "9     0.038397  \n",
      "10    0.034312  \n",
      "11    0.033949  \n",
      "12    0.031673  \n",
      "13    0.031600  \n",
      "14    0.030167  \n",
      "15    0.029497  \n",
      "16    0.027652  \n",
      "17    0.021527  \n",
      "18    0.017519  \n",
      "19    0.011345  \n",
      "20    0.009484  \n",
      "21    0.006293  \n",
      "22    0.005862  \n",
      "23    0.005481  \n",
      "24    0.003531  \n",
      "25    0.003255  \n",
      "26    0.002891  \n",
      "27    0.002684  \n"
     ]
    }
   ],
   "source": [
    "best_model = aml.leader\n",
    "# Obter a importância das variáveis\n",
    "feature_importance = best_model.varimp(use_pandas=True)\n",
    "\n",
    "# Mostrar as características mais importantes\n",
    "print(feature_importance)"
   ]
  },
  {
   "cell_type": "code",
   "execution_count": 7,
   "metadata": {},
   "outputs": [
    {
     "name": "stdout",
     "output_type": "stream",
     "text": [
      "{'model_id': None, 'training_frame': None, 'validation_frame': None, 'nfolds': 0, 'keep_cross_validation_models': True, 'keep_cross_validation_predictions': False, 'keep_cross_validation_fold_assignment': False, 'score_each_iteration': False, 'score_tree_interval': 0, 'fold_assignment': 'auto', 'fold_column': None, 'response_column': None, 'ignored_columns': None, 'ignore_const_cols': True, 'offset_column': None, 'weights_column': None, 'balance_classes': False, 'class_sampling_factors': None, 'max_after_balance_size': 5.0, 'max_confusion_matrix_size': 20, 'ntrees': 50, 'max_depth': 5, 'min_rows': 10.0, 'nbins': 20, 'nbins_top_level': 1024, 'nbins_cats': 1024, 'r2_stopping': None, 'stopping_rounds': 0, 'stopping_metric': 'auto', 'stopping_tolerance': 0.001, 'max_runtime_secs': 0.0, 'seed': -1, 'build_tree_one_node': False, 'learn_rate': 0.1, 'learn_rate_annealing': 1.0, 'distribution': 'auto', 'quantile_alpha': 0.5, 'tweedie_power': 1.5, 'huber_alpha': 0.9, 'checkpoint': None, 'sample_rate': 1.0, 'sample_rate_per_class': None, 'col_sample_rate': 1.0, 'col_sample_rate_change_per_level': 1.0, 'col_sample_rate_per_tree': 1.0, 'min_split_improvement': 1e-05, 'histogram_type': 'auto', 'max_abs_leafnode_pred': None, 'pred_noise_bandwidth': 0.0, 'categorical_encoding': 'auto', 'calibrate_model': False, 'calibration_frame': None, 'calibration_method': 'auto', 'custom_metric_func': None, 'custom_distribution_func': None, 'export_checkpoints_dir': None, 'in_training_checkpoints_dir': None, 'in_training_checkpoints_tree_interval': 1, 'monotone_constraints': None, 'check_constant_response': True, 'gainslift_bins': -1, 'auc_type': 'auto', 'interaction_constraints': None, 'auto_rebalance': True}\n"
     ]
    }
   ],
   "source": [
    "params = best_model.get_params()\n",
    "print(params)"
   ]
  },
  {
   "cell_type": "code",
   "execution_count": 8,
   "metadata": {},
   "outputs": [
    {
     "data": {
      "text/html": [
       "\n",
       "<style>\n",
       "\n",
       "#h2o-table-2.h2o-container {\n",
       "  overflow-x: auto;\n",
       "}\n",
       "#h2o-table-2 .h2o-table {\n",
       "  /* width: 100%; */\n",
       "  margin-top: 1em;\n",
       "  margin-bottom: 1em;\n",
       "}\n",
       "#h2o-table-2 .h2o-table caption {\n",
       "  white-space: nowrap;\n",
       "  caption-side: top;\n",
       "  text-align: left;\n",
       "  /* margin-left: 1em; */\n",
       "  margin: 0;\n",
       "  font-size: larger;\n",
       "}\n",
       "#h2o-table-2 .h2o-table thead {\n",
       "  white-space: nowrap; \n",
       "  position: sticky;\n",
       "  top: 0;\n",
       "  box-shadow: 0 -1px inset;\n",
       "}\n",
       "#h2o-table-2 .h2o-table tbody {\n",
       "  overflow: auto;\n",
       "}\n",
       "#h2o-table-2 .h2o-table th,\n",
       "#h2o-table-2 .h2o-table td {\n",
       "  text-align: right;\n",
       "  /* border: 1px solid; */\n",
       "}\n",
       "#h2o-table-2 .h2o-table tr:nth-child(even) {\n",
       "  /* background: #F5F5F5 */\n",
       "}\n",
       "\n",
       "</style>      \n",
       "<div id=\"h2o-table-2\" class=\"h2o-container\">\n",
       "  <table class=\"h2o-table\">\n",
       "    <caption>Model Summary: </caption>\n",
       "    <thead><tr><th></th>\n",
       "<th>number_of_trees</th>\n",
       "<th>number_of_internal_trees</th>\n",
       "<th>model_size_in_bytes</th>\n",
       "<th>min_depth</th>\n",
       "<th>max_depth</th>\n",
       "<th>mean_depth</th>\n",
       "<th>min_leaves</th>\n",
       "<th>max_leaves</th>\n",
       "<th>mean_leaves</th></tr></thead>\n",
       "    <tbody><tr><td></td>\n",
       "<td>37.0</td>\n",
       "<td>37.0</td>\n",
       "<td>79718.0</td>\n",
       "<td>9.0</td>\n",
       "<td>9.0</td>\n",
       "<td>9.0</td>\n",
       "<td>110.0</td>\n",
       "<td>215.0</td>\n",
       "<td>166.94595</td></tr></tbody>\n",
       "  </table>\n",
       "</div>\n"
      ],
      "text/plain": [
       "Model Summary: \n",
       "    number_of_trees    number_of_internal_trees    model_size_in_bytes    min_depth    max_depth    mean_depth    min_leaves    max_leaves    mean_leaves\n",
       "--  -----------------  --------------------------  ---------------------  -----------  -----------  ------------  ------------  ------------  -------------\n",
       "    37                 37                          79718                  9            9            9             110           215           166.946"
      ]
     },
     "execution_count": 8,
     "metadata": {},
     "output_type": "execute_result"
    }
   ],
   "source": [
    "best_model.summary()"
   ]
  },
  {
   "cell_type": "code",
   "execution_count": 9,
   "metadata": {},
   "outputs": [
    {
     "data": {
      "image/png": "[encoded data removed]",
      "text/plain": [
       "<Figure size 1000x800 with 1 Axes>"
      ]
     },
     "metadata": {},
     "output_type": "display_data"
    }
   ],
   "source": [
    "import matplotlib.pyplot as plt\n",
    "import seaborn as sns\n",
    "\n",
    "# Gráfico de barras das importâncias das características\n",
    "plt.figure(figsize=(10, 8))\n",
    "sns.barplot(x='scaled_importance', y='variable', data=feature_importance)\n",
    "plt.title('Feature Importance')\n",
    "plt.xlabel('Importance')\n",
    "plt.ylabel('Features')\n",
    "plt.show()"
   ]
  },
  {
   "cell_type": "code",
   "execution_count": 10,
   "metadata": {},
   "outputs": [
    {
     "name": "stdout",
     "output_type": "stream",
     "text": [
      "H2O session _sid_8825 closed.\n"
     ]
    }
   ],
   "source": [
    "h2o.cluster().shutdown()"
   ]
  },
  {
   "cell_type": "code",
   "execution_count": null,
   "metadata": {},
   "outputs": [],
   "source": []
  },
  {
   "cell_type": "code",
   "execution_count": null,
   "metadata": {},
   "outputs": [],
   "source": []
  },
  {
   "cell_type": "code",
   "execution_count": null,
   "metadata": {},
   "outputs": [],
   "source": []
  }
 ],
 "metadata": {
  "kernelspec": {
   "display_name": ".venv",
   "language": "python",
   "name": "python3"
  },
  "language_info": {
   "codemirror_mode": {
    "name": "ipython",
    "version": 3
   },
   "file_extension": ".py",
   "mimetype": "text/x-python",
   "name": "python",
   "nbconvert_exporter": "python",
   "pygments_lexer": "ipython3",
   "version": "3.12.2"
  }
 },
 "nbformat": 4,
 "nbformat_minor": 2
}
