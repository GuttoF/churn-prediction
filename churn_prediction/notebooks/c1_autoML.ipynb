{
 "cells": [
  {
   "cell_type": "markdown",
   "metadata": {},
   "source": [
    "# Client Churn Prediction\n",
    "### CRISP-DM Cycle 3\n",
    "---\n",
    "\n",
    "> Disclaimer: This is a fictional bussiness case"
   ]
  },
  {
   "cell_type": "markdown",
   "metadata": {},
   "source": [
    "## Settings"
   ]
  },
  {
   "cell_type": "code",
   "execution_count": 1,
   "metadata": {},
   "outputs": [],
   "source": [
    "# Settings imports\n",
    "import os\n",
    "import sys\n",
    "import h2o\n",
    "\n",
    "from dotenv import load_dotenv\n",
    "\n",
    "# Load .env file\n",
    "env_path = \"../.env\"\n",
    "load_dotenv(dotenv_path=env_path)\n",
    "\n",
    "# Seed\n",
    "seed = int(os.getenv(\"SEED\"))\n",
    "\n",
    "# Add path\n",
    "path = os.getenv(\"HOMEPATH\")\n",
    "\n",
    "# Add path to sys.path\n",
    "sys.path.append(path)"
   ]
  },
  {
   "cell_type": "code",
   "execution_count": 2,
   "metadata": {},
   "outputs": [],
   "source": [
    "import pandas as pd\n",
    "from h2o.automl import H2OAutoML\n",
    "from helpers.classes.FeatureEngineering import FeatureEngineering\n",
    "from helpers.classes.Queries import DuckQueries"
   ]
  },
  {
   "cell_type": "markdown",
   "metadata": {},
   "source": [
    "## Data\n",
    "\n",
    "This dataset is avaliable [here](https://www.kaggle.com/mervetorkan/churndataset).\n",
    "\n",
    "\n",
    "**Data fields**\n",
    "\n",
    "- **RowNumber**: the number of the columns\n",
    "- **CustomerID**: unique identifier of clients\n",
    "- **Surname**: client's last name\n",
    "- **CreditScore**: clien'ts credit score for the financial market\n",
    "- **Geography**: the country of the client\n",
    "- **Gender**: the gender of the client\n",
    "- **Age**: the client's age\n",
    "- **Tenure**: number of years the client is in the bank \n",
    "- **Balance**: the amount that the client has in their account \n",
    "- **NumOfProducts**: the number of products that the client bought \n",
    "- **HasCrCard**: if the client has a credit card \n",
    "- **IsActiveMember**: if the client is active (within the last 12 months) \n",
    "- **EstimateSalary**: estimative of anual salary of clients \n",
    "- **Exited**: if the client is a churn (*target variable*)"
   ]
  },
  {
   "cell_type": "code",
   "execution_count": 3,
   "metadata": {},
   "outputs": [],
   "source": [
    "qb = DuckQueries()\n",
    "conn = qb.get_connection(path + \"/data/interim/churn.db\")\n",
    "\n",
    "query = qb.select(\"*\").from_table(\"churn\").build()\n",
    "data = conn.execute(query).df()\n",
    "conn.close()\n",
    "\n",
    "fe = FeatureEngineering(seed=seed)\n",
    "X_train, X_test, X_val, y_train, y_test, y_val, id_train, id_test, id_val = (\n",
    "    fe.transform(data)\n",
    ")"
   ]
  },
  {
   "cell_type": "markdown",
   "metadata": {},
   "source": [
    "## AutoML"
   ]
  },
  {
   "cell_type": "code",
   "execution_count": 4,
   "metadata": {},
   "outputs": [
    {
     "name": "stdout",
     "output_type": "stream",
     "text": [
      "Checking whether there is an H2O instance running at http://localhost:54321..... not found.\n",
      "Attempting to start a local H2O server...\n",
      "  Java Version: openjdk version \"21.0.1\" 2023-10-17; OpenJDK Runtime Environment (build 21.0.1+12-29); OpenJDK 64-Bit Server VM (build 21.0.1+12-29, mixed mode, sharing)\n",
      "  Starting server from /Users/guttofranca/Repos/churn-prediction/.venv/lib/python3.12/site-packages/h2o/backend/bin/h2o.jar\n",
      "  Ice root: /var/folders/k8/xr4_svzj4l705syzgn21x_500000gn/T/tmpc4qfabh4\n",
      "  JVM stdout: /var/folders/k8/xr4_svzj4l705syzgn21x_500000gn/T/tmpc4qfabh4/h2o_guttofranca_started_from_python.out\n",
      "  JVM stderr: /var/folders/k8/xr4_svzj4l705syzgn21x_500000gn/T/tmpc4qfabh4/h2o_guttofranca_started_from_python.err\n",
      "  Server is running at http://127.0.0.1:54321\n",
      "Connecting to H2O server at http://127.0.0.1:54321 ... successful.\n"
     ]
    },
    {
     "data": {
      "text/html": [
       "\n",
       "<style>\n",
       "\n",
       "#h2o-table-1.h2o-container {\n",
       "  overflow-x: auto;\n",
       "}\n",
       "#h2o-table-1 .h2o-table {\n",
       "  /* width: 100%; */\n",
       "  margin-top: 1em;\n",
       "  margin-bottom: 1em;\n",
       "}\n",
       "#h2o-table-1 .h2o-table caption {\n",
       "  white-space: nowrap;\n",
       "  caption-side: top;\n",
       "  text-align: left;\n",
       "  /* margin-left: 1em; */\n",
       "  margin: 0;\n",
       "  font-size: larger;\n",
       "}\n",
       "#h2o-table-1 .h2o-table thead {\n",
       "  white-space: nowrap; \n",
       "  position: sticky;\n",
       "  top: 0;\n",
       "  box-shadow: 0 -1px inset;\n",
       "}\n",
       "#h2o-table-1 .h2o-table tbody {\n",
       "  overflow: auto;\n",
       "}\n",
       "#h2o-table-1 .h2o-table th,\n",
       "#h2o-table-1 .h2o-table td {\n",
       "  text-align: right;\n",
       "  /* border: 1px solid; */\n",
       "}\n",
       "#h2o-table-1 .h2o-table tr:nth-child(even) {\n",
       "  /* background: #F5F5F5 */\n",
       "}\n",
       "\n",
       "</style>      \n",
       "<div id=\"h2o-table-1\" class=\"h2o-container\">\n",
       "  <table class=\"h2o-table\">\n",
       "    <caption></caption>\n",
       "    <thead></thead>\n",
       "    <tbody><tr><td>H2O_cluster_uptime:</td>\n",
       "<td>01 secs</td></tr>\n",
       "<tr><td>H2O_cluster_timezone:</td>\n",
       "<td>America/Recife</td></tr>\n",
       "<tr><td>H2O_data_parsing_timezone:</td>\n",
       "<td>UTC</td></tr>\n",
       "<tr><td>H2O_cluster_version:</td>\n",
       "<td>3.46.0.1</td></tr>\n",
       "<tr><td>H2O_cluster_version_age:</td>\n",
       "<td>1 month and 20 days</td></tr>\n",
       "<tr><td>H2O_cluster_name:</td>\n",
       "<td>H2O_from_python_guttofranca_du60wf</td></tr>\n",
       "<tr><td>H2O_cluster_total_nodes:</td>\n",
       "<td>1</td></tr>\n",
       "<tr><td>H2O_cluster_free_memory:</td>\n",
       "<td>1.983 Gb</td></tr>\n",
       "<tr><td>H2O_cluster_total_cores:</td>\n",
       "<td>8</td></tr>\n",
       "<tr><td>H2O_cluster_allowed_cores:</td>\n",
       "<td>8</td></tr>\n",
       "<tr><td>H2O_cluster_status:</td>\n",
       "<td>locked, healthy</td></tr>\n",
       "<tr><td>H2O_connection_url:</td>\n",
       "<td>http://127.0.0.1:54321</td></tr>\n",
       "<tr><td>H2O_connection_proxy:</td>\n",
       "<td>{\"http\": null, \"https\": null}</td></tr>\n",
       "<tr><td>H2O_internal_security:</td>\n",
       "<td>False</td></tr>\n",
       "<tr><td>Python_version:</td>\n",
       "<td>3.12.2 final</td></tr></tbody>\n",
       "  </table>\n",
       "</div>\n"
      ],
      "text/plain": [
       "--------------------------  ----------------------------------\n",
       "H2O_cluster_uptime:         01 secs\n",
       "H2O_cluster_timezone:       America/Recife\n",
       "H2O_data_parsing_timezone:  UTC\n",
       "H2O_cluster_version:        3.46.0.1\n",
       "H2O_cluster_version_age:    1 month and 20 days\n",
       "H2O_cluster_name:           H2O_from_python_guttofranca_du60wf\n",
       "H2O_cluster_total_nodes:    1\n",
       "H2O_cluster_free_memory:    1.983 Gb\n",
       "H2O_cluster_total_cores:    8\n",
       "H2O_cluster_allowed_cores:  8\n",
       "H2O_cluster_status:         locked, healthy\n",
       "H2O_connection_url:         http://127.0.0.1:54321\n",
       "H2O_connection_proxy:       {\"http\": null, \"https\": null}\n",
       "H2O_internal_security:      False\n",
       "Python_version:             3.12.2 final\n",
       "--------------------------  ----------------------------------"
      ]
     },
     "metadata": {},
     "output_type": "display_data"
    }
   ],
   "source": [
    "h2o.init(ip=\"localhost\", port=54321)"
   ]
  },
  {
   "cell_type": "code",
   "execution_count": 5,
   "metadata": {},
   "outputs": [
    {
     "name": "stdout",
     "output_type": "stream",
     "text": [
      "Parse progress: |████████████████████████████████████████████████████████████████| (done) 100%\n",
      "Parse progress: |████████████████████████████████████████████████████████████████| (done) 100%\n",
      "Parse progress: |████████████████████████████████████████████████████████████████| (done) 100%\n",
      "AutoML progress: |\n",
      "19:01:00.880: AutoML: XGBoost is not available; skipping it.\n",
      "\n",
      "███████████████████████████████████████████████████████████████| (done) 100%\n"
     ]
    },
    {
     "data": {
      "text/html": [
       "<table class='dataframe'>\n",
       "<thead>\n",
       "<tr><th>model_id                                            </th><th style=\"text-align: right;\">   aucpr</th><th style=\"text-align: right;\">     auc</th><th style=\"text-align: right;\">  logloss</th><th style=\"text-align: right;\">  mean_per_class_error</th><th style=\"text-align: right;\">    rmse</th><th style=\"text-align: right;\">      mse</th></tr>\n",
       "</thead>\n",
       "<tbody>\n",
       "<tr><td>GBM_grid_1_AutoML_1_20240503_190100_model_5         </td><td style=\"text-align: right;\">0.74424 </td><td style=\"text-align: right;\">0.870819</td><td style=\"text-align: right;\"> 0.320284</td><td style=\"text-align: right;\">              0.21831 </td><td style=\"text-align: right;\">0.308103</td><td style=\"text-align: right;\">0.0949272</td></tr>\n",
       "<tr><td>GBM_3_AutoML_1_20240503_190100                      </td><td style=\"text-align: right;\">0.74303 </td><td style=\"text-align: right;\">0.873922</td><td style=\"text-align: right;\"> 0.320832</td><td style=\"text-align: right;\">              0.219061</td><td style=\"text-align: right;\">0.308848</td><td style=\"text-align: right;\">0.0953873</td></tr>\n",
       "<tr><td>GBM_2_AutoML_1_20240503_190100                      </td><td style=\"text-align: right;\">0.740166</td><td style=\"text-align: right;\">0.876472</td><td style=\"text-align: right;\"> 0.319461</td><td style=\"text-align: right;\">              0.211018</td><td style=\"text-align: right;\">0.309257</td><td style=\"text-align: right;\">0.0956397</td></tr>\n",
       "<tr><td>GBM_grid_1_AutoML_1_20240503_190100_model_7         </td><td style=\"text-align: right;\">0.737233</td><td style=\"text-align: right;\">0.871382</td><td style=\"text-align: right;\"> 0.327352</td><td style=\"text-align: right;\">              0.201202</td><td style=\"text-align: right;\">0.312098</td><td style=\"text-align: right;\">0.0974049</td></tr>\n",
       "<tr><td>GBM_grid_1_AutoML_1_20240503_190100_model_4         </td><td style=\"text-align: right;\">0.733496</td><td style=\"text-align: right;\">0.872035</td><td style=\"text-align: right;\"> 0.324893</td><td style=\"text-align: right;\">              0.211326</td><td style=\"text-align: right;\">0.311555</td><td style=\"text-align: right;\">0.0970663</td></tr>\n",
       "<tr><td>GBM_grid_1_AutoML_1_20240503_190100_model_6         </td><td style=\"text-align: right;\">0.732369</td><td style=\"text-align: right;\">0.874458</td><td style=\"text-align: right;\"> 0.325087</td><td style=\"text-align: right;\">              0.200266</td><td style=\"text-align: right;\">0.311552</td><td style=\"text-align: right;\">0.0970643</td></tr>\n",
       "<tr><td>GBM_1_AutoML_1_20240503_190100                      </td><td style=\"text-align: right;\">0.731537</td><td style=\"text-align: right;\">0.876817</td><td style=\"text-align: right;\"> 0.323477</td><td style=\"text-align: right;\">              0.205735</td><td style=\"text-align: right;\">0.311509</td><td style=\"text-align: right;\">0.0970376</td></tr>\n",
       "<tr><td>GBM_4_AutoML_1_20240503_190100                      </td><td style=\"text-align: right;\">0.731065</td><td style=\"text-align: right;\">0.87641 </td><td style=\"text-align: right;\"> 0.322501</td><td style=\"text-align: right;\">              0.223212</td><td style=\"text-align: right;\">0.311291</td><td style=\"text-align: right;\">0.0969021</td></tr>\n",
       "<tr><td>DRF_1_AutoML_1_20240503_190100                      </td><td style=\"text-align: right;\">0.7265  </td><td style=\"text-align: right;\">0.869088</td><td style=\"text-align: right;\"> 0.363342</td><td style=\"text-align: right;\">              0.228742</td><td style=\"text-align: right;\">0.317486</td><td style=\"text-align: right;\">0.100797 </td></tr>\n",
       "<tr><td>GBM_grid_1_AutoML_1_20240503_190100_model_1         </td><td style=\"text-align: right;\">0.72618 </td><td style=\"text-align: right;\">0.863887</td><td style=\"text-align: right;\"> 0.331537</td><td style=\"text-align: right;\">              0.22044 </td><td style=\"text-align: right;\">0.314759</td><td style=\"text-align: right;\">0.0990731</td></tr>\n",
       "<tr><td>GBM_grid_1_AutoML_1_20240503_190100_model_9         </td><td style=\"text-align: right;\">0.72456 </td><td style=\"text-align: right;\">0.86176 </td><td style=\"text-align: right;\"> 0.333395</td><td style=\"text-align: right;\">              0.234838</td><td style=\"text-align: right;\">0.31551 </td><td style=\"text-align: right;\">0.0995466</td></tr>\n",
       "<tr><td>GBM_5_AutoML_1_20240503_190100                      </td><td style=\"text-align: right;\">0.724257</td><td style=\"text-align: right;\">0.870849</td><td style=\"text-align: right;\"> 0.326018</td><td style=\"text-align: right;\">              0.218999</td><td style=\"text-align: right;\">0.312463</td><td style=\"text-align: right;\">0.0976333</td></tr>\n",
       "<tr><td>GBM_grid_1_AutoML_1_20240503_190100_model_2         </td><td style=\"text-align: right;\">0.719498</td><td style=\"text-align: right;\">0.871933</td><td style=\"text-align: right;\"> 0.327752</td><td style=\"text-align: right;\">              0.206104</td><td style=\"text-align: right;\">0.31539 </td><td style=\"text-align: right;\">0.0994708</td></tr>\n",
       "<tr><td>GBM_grid_1_AutoML_1_20240503_190100_model_8         </td><td style=\"text-align: right;\">0.707789</td><td style=\"text-align: right;\">0.861138</td><td style=\"text-align: right;\"> 0.33553 </td><td style=\"text-align: right;\">              0.240184</td><td style=\"text-align: right;\">0.317043</td><td style=\"text-align: right;\">0.100517 </td></tr>\n",
       "<tr><td>XRT_1_AutoML_1_20240503_190100                      </td><td style=\"text-align: right;\">0.685141</td><td style=\"text-align: right;\">0.848433</td><td style=\"text-align: right;\"> 0.363958</td><td style=\"text-align: right;\">              0.220872</td><td style=\"text-align: right;\">0.331989</td><td style=\"text-align: right;\">0.110217 </td></tr>\n",
       "<tr><td>GBM_grid_1_AutoML_1_20240503_190100_model_3         </td><td style=\"text-align: right;\">0.67546 </td><td style=\"text-align: right;\">0.846934</td><td style=\"text-align: right;\"> 0.366559</td><td style=\"text-align: right;\">              0.244642</td><td style=\"text-align: right;\">0.331512</td><td style=\"text-align: right;\">0.1099   </td></tr>\n",
       "<tr><td>DeepLearning_grid_1_AutoML_1_20240503_190100_model_1</td><td style=\"text-align: right;\">0.672503</td><td style=\"text-align: right;\">0.842965</td><td style=\"text-align: right;\"> 0.369007</td><td style=\"text-align: right;\">              0.23772 </td><td style=\"text-align: right;\">0.331375</td><td style=\"text-align: right;\">0.10981  </td></tr>\n",
       "<tr><td>DeepLearning_1_AutoML_1_20240503_190100             </td><td style=\"text-align: right;\">0.642408</td><td style=\"text-align: right;\">0.823557</td><td style=\"text-align: right;\"> 0.37691 </td><td style=\"text-align: right;\">              0.277133</td><td style=\"text-align: right;\">0.338145</td><td style=\"text-align: right;\">0.114342 </td></tr>\n",
       "<tr><td>DeepLearning_grid_2_AutoML_1_20240503_190100_model_1</td><td style=\"text-align: right;\">0.588473</td><td style=\"text-align: right;\">0.801431</td><td style=\"text-align: right;\"> 0.503938</td><td style=\"text-align: right;\">              0.27366 </td><td style=\"text-align: right;\">0.358966</td><td style=\"text-align: right;\">0.128857 </td></tr>\n",
       "<tr><td>DeepLearning_grid_1_AutoML_1_20240503_190100_model_3</td><td style=\"text-align: right;\">0.562895</td><td style=\"text-align: right;\">0.779784</td><td style=\"text-align: right;\"> 0.586602</td><td style=\"text-align: right;\">              0.286075</td><td style=\"text-align: right;\">0.374373</td><td style=\"text-align: right;\">0.140155 </td></tr>\n",
       "<tr><td>GLM_1_AutoML_1_20240503_190100                      </td><td style=\"text-align: right;\">0.556958</td><td style=\"text-align: right;\">0.791097</td><td style=\"text-align: right;\"> 0.441188</td><td style=\"text-align: right;\">              0.270901</td><td style=\"text-align: right;\">0.364404</td><td style=\"text-align: right;\">0.13279  </td></tr>\n",
       "<tr><td>DeepLearning_grid_1_AutoML_1_20240503_190100_model_4</td><td style=\"text-align: right;\">0.554951</td><td style=\"text-align: right;\">0.757732</td><td style=\"text-align: right;\"> 1.29844 </td><td style=\"text-align: right;\">              0.305634</td><td style=\"text-align: right;\">0.394142</td><td style=\"text-align: right;\">0.155348 </td></tr>\n",
       "<tr><td>DeepLearning_grid_1_AutoML_1_20240503_190100_model_2</td><td style=\"text-align: right;\">0.244825</td><td style=\"text-align: right;\">0.598772</td><td style=\"text-align: right;\">26.0409  </td><td style=\"text-align: right;\">              0.406247</td><td style=\"text-align: right;\">0.891776</td><td style=\"text-align: right;\">0.795264 </td></tr>\n",
       "</tbody>\n",
       "</table><pre style='font-size: smaller; margin-bottom: 1em;'>[23 rows x 7 columns]</pre>"
      ],
      "text/plain": [
       "model_id                                                 aucpr       auc    logloss    mean_per_class_error      rmse        mse\n",
       "----------------------------------------------------  --------  --------  ---------  ----------------------  --------  ---------\n",
       "GBM_grid_1_AutoML_1_20240503_190100_model_5           0.74424   0.870819   0.320284                0.21831   0.308103  0.0949272\n",
       "GBM_3_AutoML_1_20240503_190100                        0.74303   0.873922   0.320832                0.219061  0.308848  0.0953873\n",
       "GBM_2_AutoML_1_20240503_190100                        0.740166  0.876472   0.319461                0.211018  0.309257  0.0956397\n",
       "GBM_grid_1_AutoML_1_20240503_190100_model_7           0.737233  0.871382   0.327352                0.201202  0.312098  0.0974049\n",
       "GBM_grid_1_AutoML_1_20240503_190100_model_4           0.733496  0.872035   0.324893                0.211326  0.311555  0.0970663\n",
       "GBM_grid_1_AutoML_1_20240503_190100_model_6           0.732369  0.874458   0.325087                0.200266  0.311552  0.0970643\n",
       "GBM_1_AutoML_1_20240503_190100                        0.731537  0.876817   0.323477                0.205735  0.311509  0.0970376\n",
       "GBM_4_AutoML_1_20240503_190100                        0.731065  0.87641    0.322501                0.223212  0.311291  0.0969021\n",
       "DRF_1_AutoML_1_20240503_190100                        0.7265    0.869088   0.363342                0.228742  0.317486  0.100797\n",
       "GBM_grid_1_AutoML_1_20240503_190100_model_1           0.72618   0.863887   0.331537                0.22044   0.314759  0.0990731\n",
       "GBM_grid_1_AutoML_1_20240503_190100_model_9           0.72456   0.86176    0.333395                0.234838  0.31551   0.0995466\n",
       "GBM_5_AutoML_1_20240503_190100                        0.724257  0.870849   0.326018                0.218999  0.312463  0.0976333\n",
       "GBM_grid_1_AutoML_1_20240503_190100_model_2           0.719498  0.871933   0.327752                0.206104  0.31539   0.0994708\n",
       "GBM_grid_1_AutoML_1_20240503_190100_model_8           0.707789  0.861138   0.33553                 0.240184  0.317043  0.100517\n",
       "XRT_1_AutoML_1_20240503_190100                        0.685141  0.848433   0.363958                0.220872  0.331989  0.110217\n",
       "GBM_grid_1_AutoML_1_20240503_190100_model_3           0.67546   0.846934   0.366559                0.244642  0.331512  0.1099\n",
       "DeepLearning_grid_1_AutoML_1_20240503_190100_model_1  0.672503  0.842965   0.369007                0.23772   0.331375  0.10981\n",
       "DeepLearning_1_AutoML_1_20240503_190100               0.642408  0.823557   0.37691                 0.277133  0.338145  0.114342\n",
       "DeepLearning_grid_2_AutoML_1_20240503_190100_model_1  0.588473  0.801431   0.503938                0.27366   0.358966  0.128857\n",
       "DeepLearning_grid_1_AutoML_1_20240503_190100_model_3  0.562895  0.779784   0.586602                0.286075  0.374373  0.140155\n",
       "GLM_1_AutoML_1_20240503_190100                        0.556958  0.791097   0.441188                0.270901  0.364404  0.13279\n",
       "DeepLearning_grid_1_AutoML_1_20240503_190100_model_4  0.554951  0.757732   1.29844                 0.305634  0.394142  0.155348\n",
       "DeepLearning_grid_1_AutoML_1_20240503_190100_model_2  0.244825  0.598772  26.0409                  0.406247  0.891776  0.795264\n",
       "[23 rows x 7 columns]\n"
      ]
     },
     "execution_count": 5,
     "metadata": {},
     "output_type": "execute_result"
    }
   ],
   "source": [
    "# Create a pandas dataframe\n",
    "train_df = pd.concat([X_train, y_train], axis=1)\n",
    "test_df = pd.concat([X_test, y_test], axis=1)\n",
    "val_df = pd.concat([X_val, y_val], axis=1)\n",
    "\n",
    "# Convert to h2o frame\n",
    "train_h2o = h2o.H2OFrame(train_df)\n",
    "test_h2o = h2o.H2OFrame(test_df)\n",
    "val_h2o = h2o.H2OFrame(val_df)\n",
    "\n",
    "# Target column\n",
    "target_column = train_h2o.columns[-1]\n",
    "train_h2o[target_column] = train_h2o[target_column].asfactor()\n",
    "test_h2o[target_column] = test_h2o[target_column].asfactor()\n",
    "val_h2o[target_column] = val_h2o[target_column].asfactor()\n",
    "\n",
    "# Feature columns\n",
    "feature_columns = train_h2o.columns[:-1]\n",
    "\n",
    "# Run AutoML\n",
    "aml = H2OAutoML(\n",
    "    max_models=30,\n",
    "    seed=seed,\n",
    "    max_runtime_secs=900,\n",
    "    project_name=\"churn_automl\",\n",
    "    stopping_metric=\"logloss\",\n",
    "    sort_metric=\"aucpr\",\n",
    ")\n",
    "\n",
    "aml.train(\n",
    "    x=feature_columns,\n",
    "    y=target_column,\n",
    "    training_frame=train_h2o,\n",
    "    leaderboard_frame=val_h2o,\n",
    ")\n",
    "\n",
    "lb = aml.leaderboard\n",
    "lb.head(rows=lb.nrows)"
   ]
  },
  {
   "cell_type": "code",
   "execution_count": 6,
   "metadata": {},
   "outputs": [
    {
     "data": {
      "image/png": "[encoded data removed]",
      "text/plain": [
       "<Figure size 1400x1000 with 1 Axes>"
      ]
     },
     "metadata": {},
     "output_type": "display_data"
    },
    {
     "data": {
      "text/plain": [
       "<h2o.plot._plot_result._MObject at 0x306863e60>"
      ]
     },
     "execution_count": 6,
     "metadata": {},
     "output_type": "execute_result"
    },
    {
     "data": {
      "text/plain": [
       "<Figure size 640x480 with 0 Axes>"
      ]
     },
     "metadata": {},
     "output_type": "display_data"
    }
   ],
   "source": [
    "model = h2o.get_model(lb[1, \"model_id\"])\n",
    "model.varimp_plot()"
   ]
  },
  {
   "cell_type": "code",
   "execution_count": 7,
   "metadata": {},
   "outputs": [
    {
     "name": "stdout",
     "output_type": "stream",
     "text": [
      "H2O session _sid_980f closed.\n"
     ]
    }
   ],
   "source": [
    "h2o.cluster().shutdown()"
   ]
  },
  {
   "cell_type": "code",
   "execution_count": null,
   "metadata": {},
   "outputs": [],
   "source": []
  },
  {
   "cell_type": "code",
   "execution_count": null,
   "metadata": {},
   "outputs": [],
   "source": []
  },
  {
   "cell_type": "code",
   "execution_count": null,
   "metadata": {},
   "outputs": [],
   "source": []
  }
 ],
 "metadata": {
  "kernelspec": {
   "display_name": ".venv",
   "language": "python",
   "name": "python3"
  },
  "language_info": {
   "codemirror_mode": {
    "name": "ipython",
    "version": 3
   },
   "file_extension": ".py",
   "mimetype": "text/x-python",
   "name": "python",
   "nbconvert_exporter": "python",
   "pygments_lexer": "ipython3",
   "version": "3.12.2"
  }
 },
 "nbformat": 4,
 "nbformat_minor": 2
}
