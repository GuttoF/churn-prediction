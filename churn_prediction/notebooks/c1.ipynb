{
 "cells": [
  {
   "cell_type": "markdown",
   "metadata": {},
   "source": [
    "# Client Churn Prediction\n",
    "### CRISP-DM Cycle 3\n",
    "---\n",
    "\n",
    "The Top Bank company operates in Europe with a bank account as the main product, this product can keep client's salary and make payments. This account doesn't have any cost in the first 12 months, however, after that time trial, the client needs to rehire the bank for upcoming 12 months and redo this process every year. Recently the Analytics Team noticed that the churn rate is increasing.\n",
    "\n",
    "As a Data Science Consultant, you need to create an action plan to decrease the number of churn customers and show the financial return on your solution.\n",
    "At the end of your consultancy, you need to deliver to the TopBottom CEO a model in production, which will receive a customer base via API and return that same base with an extra column with the probability of each customer going into churn.\n",
    "In addition, you will need to provide a report reporting your model's performance and the financial impact of your solution. Questions that the CEO and the Analytics team would like to see in their report:\n",
    "\n",
    "1.  What is Top Bank's current Churn rate?\n",
    "2.  How does the churn rate vary monthly?\n",
    "3.  What is the performance of the model in classifying customers as churns\n",
    "4.  What is the expected return, in terms of revenue, if the company uses its model to avoid churn from customers?\n",
    "\n",
    "> Disclaimer: This is a fictional bussiness case"
   ]
  },
  {
   "cell_type": "markdown",
   "metadata": {},
   "source": [
    "## 0. PREPARATION"
   ]
  },
  {
   "cell_type": "markdown",
   "metadata": {},
   "source": [
    "### 0.1 Planning\n",
    "\n",
    "#### Input\n",
    "\n",
    "- Predict wheter customer will be in churn;\n",
    "- Dataset with sales records and customers info.\n",
    "\n",
    "#### Output\n",
    "\n",
    "- Which customer will be in churn;\n",
    "- Churn rate of the company;\n",
    "- Performance of the model;\n",
    "- Action plan\n",
    "\n",
    "\n",
    "#### Tasks\n",
    "\n",
    "1. Which customer will be in churn:\n",
    "    - What is the criterion?\n",
    "        - Downtime\n",
    "        - Time remaining until the contract ends\n",
    "\n",
    "\n",
    "2. Current churn rate of the company:\n",
    "    - Calculate churn rate\n",
    "    - Calculate monthly churn rate and variation\n",
    "\n",
    "3. Performance of the model:\n",
    "    - Precision at K score\n",
    "    - Recall at K score\n",
    "\n",
    "4. Action plan:\n",
    "    - Discount?\n",
    "    - Voucher?\n",
    "    - Deposit bonus?"
   ]
  },
  {
   "cell_type": "markdown",
   "metadata": {},
   "source": [
    "### 0.2 Settings"
   ]
  },
  {
   "cell_type": "code",
   "execution_count": 4,
   "metadata": {},
   "outputs": [],
   "source": [
    "# imports\n",
    "import os\n",
    "import sys\n",
    "import duckdb\n",
    "\n",
    "from dotenv import load_dotenv\n",
    "from IPython.core.display import HTML\n",
    "\n",
    "import polars as pl\n",
    "\n",
    "\n",
    "# load .env file\n",
    "env_path = '../.env'\n",
    "load_dotenv(dotenv_path=env_path)\n",
    "\n",
    "# add home path to sys.path\n",
    "path = os.getenv('HOME_PATH')\n",
    "sys.path.append(path)"
   ]
  },
  {
   "cell_type": "markdown",
   "metadata": {},
   "source": [
    "### 0.4 Data\n",
    "\n",
    "This dataset is avaliable [here](https://www.kaggle.com/mervetorkan/churndataset).\n",
    "\n",
    "\n",
    "**Data fields**\n",
    "\n",
    "- **RowNumber**: the number of the columns\n",
    "- **CustomerID**: unique identifier of clients\n",
    "- **Surname**: client's last name\n",
    "- **CreditScore**: clien'ts credit score for the financial market\n",
    "- **Geography**: the country of the client\n",
    "- **Gender**: the gender of the client\n",
    "- **Age**: the client's age\n",
    "- **Tenure**: number of years the client is in the bank \n",
    "- **Balance**: the amount that the client has in their account \n",
    "- **NumOfProducts**: the number of products that the client bought \n",
    "- **HasCrCard**: if the client has a credit card \n",
    "- **IsActiveMember**: if the client is active (within the last 12 months) \n",
    "- **EstimateSalary**: estimative of anual salary of clients \n",
    "- **Exited**: if the client is a churn (*target variable*)"
   ]
  },
  {
   "cell_type": "markdown",
   "metadata": {},
   "source": [
    "## 1. DATA DESCRIPTION"
   ]
  },
  {
   "cell_type": "code",
   "execution_count": 8,
   "metadata": {},
   "outputs": [],
   "source": [
    "# Connection to the database\n",
    "conn_path = path + \"data/interim/churn.db\"\n",
    "conn = duckdb.connect(database=conn_path, read_only=False)\n",
    "cursor = conn.cursor()\n",
    "\n",
    "# Query the database\n",
    "query = \"SELECT * FROM churn\"\n",
    "cursor.execute(query)\n",
    "data = cursor.fetchall()\n",
    "\n",
    "# Get the column names\n",
    "cols = [description[0] for description in cursor.description]\n",
    "\n",
    "# Close the connection\n",
    "cursor.close()\n",
    "conn.close()\n",
    "\n",
    "# Create a Polars Dataframe\n",
    "df1 = pl.DataFrame(data, schema=cols)"
   ]
  },
  {
   "cell_type": "markdown",
   "metadata": {},
   "source": [
    "### 1.1 First Look"
   ]
  },
  {
   "cell_type": "code",
   "execution_count": null,
   "metadata": {},
   "outputs": [],
   "source": []
  },
  {
   "cell_type": "code",
   "execution_count": null,
   "metadata": {},
   "outputs": [],
   "source": []
  },
  {
   "cell_type": "code",
   "execution_count": null,
   "metadata": {},
   "outputs": [],
   "source": []
  },
  {
   "cell_type": "code",
   "execution_count": null,
   "metadata": {},
   "outputs": [],
   "source": []
  },
  {
   "cell_type": "markdown",
   "metadata": {},
   "source": [
    "### 1.2 Data Dimensions"
   ]
  },
  {
   "cell_type": "markdown",
   "metadata": {},
   "source": [
    "### 1.3 Check NA"
   ]
  },
  {
   "cell_type": "markdown",
   "metadata": {},
   "source": [
    "### 1.4 Data Types"
   ]
  },
  {
   "cell_type": "markdown",
   "metadata": {},
   "source": [
    "### 1.5 Descriptive Statistics"
   ]
  }
 ],
 "metadata": {
  "kernelspec": {
   "display_name": ".venv",
   "language": "python",
   "name": "python3"
  },
  "language_info": {
   "codemirror_mode": {
    "name": "ipython",
    "version": 3
   },
   "file_extension": ".py",
   "mimetype": "text/x-python",
   "name": "python",
   "nbconvert_exporter": "python",
   "pygments_lexer": "ipython3",
   "version": "3.12.2"
  }
 },
 "nbformat": 4,
 "nbformat_minor": 2
}
