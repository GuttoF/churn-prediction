{
 "cells": [
  {
   "cell_type": "markdown",
   "metadata": {},
   "source": [
    "# Client Churn Prediction\n",
    "### CRISP-DM Cycle 3\n",
    "---\n",
    "\n",
    "The Top Bank company operates in Europe with a bank account as the main product, this product can keep client's salary and make payments. This account doesn't have any cost in the first 12 months, however, after that time trial, the client needs to rehire the bank for upcoming 12 months and redo this process every year. Recently the Analytics Team noticed that the churn rate is increasing.\n",
    "\n",
    "As a Data Science Consultant, you need to create an action plan to decrease the number of churn customers and show the financial return on your solution.\n",
    "At the end of your consultancy, you need to deliver to the TopBottom CEO a model in production, which will receive a customer base via API and return that same base with an extra column with the probability of each customer going into churn.\n",
    "In addition, you will need to provide a report reporting your model's performance and the financial impact of your solution. Questions that the CEO and the Analytics team would like to see in their report:\n",
    "\n",
    "1.  What is Top Bank's current Churn rate?\n",
    "2.  How does the churn rate vary monthly?\n",
    "3.  What is the performance of the model in classifying customers as churns\n",
    "4.  What is the expected return, in terms of revenue, if the company uses its model to avoid churn from customers?\n",
    "\n",
    "> Disclaimer: This is a fictional bussiness case"
   ]
  },
  {
   "cell_type": "markdown",
   "metadata": {},
   "source": [
    "## 0. PREPARATION"
   ]
  },
  {
   "cell_type": "markdown",
   "metadata": {},
   "source": [
    "### 0.1 Planning\n",
    "\n",
    "#### Input\n",
    "\n",
    "- Predict wheter customer will be in churn;\n",
    "- Dataset with sales records and customers info.\n",
    "\n",
    "#### Output\n",
    "\n",
    "- Which customer will be in churn;\n",
    "- Churn rate of the company;\n",
    "- Performance of the model;\n",
    "- Action plan\n",
    "\n",
    "\n",
    "#### Tasks\n",
    "\n",
    "1. Which customer will be in churn:\n",
    "    - What is the criterion?\n",
    "        - Downtime\n",
    "        - Time remaining until the contract ends\n",
    "\n",
    "\n",
    "2. Current churn rate of the company:\n",
    "    - Calculate churn rate\n",
    "    - Calculate monthly churn rate and variation\n",
    "\n",
    "3. Performance of the model:\n",
    "    - Precision at K score\n",
    "    - Recall at K score\n",
    "\n",
    "4. Action plan:\n",
    "    - Discount?\n",
    "    - Voucher?\n",
    "    - Deposit bonus?"
   ]
  },
  {
   "cell_type": "markdown",
   "metadata": {},
   "source": [
    "### 0.2 Settings"
   ]
  },
  {
   "cell_type": "code",
   "execution_count": 1,
   "metadata": {},
   "outputs": [],
   "source": [
    "# Settings imports\n",
    "import os\n",
    "import sys\n",
    "\n",
    "from dotenv import load_dotenv\n",
    "\n",
    "# load .env file\n",
    "env_path = \"../.env\"\n",
    "load_dotenv(dotenv_path=env_path)\n",
    "\n",
    "# add home path to sys.path\n",
    "path = os.getenv(\"HOMEPATH\")\n",
    "sys.path.append(path)"
   ]
  },
  {
   "cell_type": "code",
   "execution_count": 2,
   "metadata": {},
   "outputs": [],
   "source": [
    "# import classes\n",
    "from helpers.Queries import DuckQueries\n",
    "from helpers.FeatureEngineering import FeatureEngineering\n",
    "\n",
    "# import libraries"
   ]
  },
  {
   "cell_type": "code",
   "execution_count": 3,
   "metadata": {},
   "outputs": [],
   "source": [
    "seed = 42"
   ]
  },
  {
   "cell_type": "markdown",
   "metadata": {},
   "source": [
    "### 0.4 Data\n",
    "\n",
    "This dataset is avaliable [here](https://www.kaggle.com/mervetorkan/churndataset).\n",
    "\n",
    "\n",
    "**Data fields**\n",
    "\n",
    "- **RowNumber**: the number of the columns\n",
    "- **CustomerID**: unique identifier of clients\n",
    "- **Surname**: client's last name\n",
    "- **CreditScore**: clien'ts credit score for the financial market\n",
    "- **Geography**: the country of the client\n",
    "- **Gender**: the gender of the client\n",
    "- **Age**: the client's age\n",
    "- **Tenure**: number of years the client is in the bank \n",
    "- **Balance**: the amount that the client has in their account \n",
    "- **NumOfProducts**: the number of products that the client bought \n",
    "- **HasCrCard**: if the client has a credit card \n",
    "- **IsActiveMember**: if the client is active (within the last 12 months) \n",
    "- **EstimateSalary**: estimative of anual salary of clients \n",
    "- **Exited**: if the client is a churn (*target variable*)"
   ]
  },
  {
   "cell_type": "markdown",
   "metadata": {},
   "source": [
    "## 1. DATA DESCRIPTION"
   ]
  },
  {
   "cell_type": "markdown",
   "metadata": {},
   "source": [
    "### 1.1 First Look"
   ]
  },
  {
   "cell_type": "code",
   "execution_count": 4,
   "metadata": {},
   "outputs": [
    {
     "name": "stdout",
     "output_type": "stream",
     "text": [
      "                          0          1          2         3          4\n",
      "row_number                1          2          3         4          5\n",
      "customer_id        15634602   15647311   15619304  15701354   15737888\n",
      "surname            Hargrave       Hill       Onio      Boni   Mitchell\n",
      "credit_score            619        608        502       699        850\n",
      "geography            France      Spain     France    France      Spain\n",
      "gender               Female     Female     Female    Female     Female\n",
      "age                      42         41         42        39         43\n",
      "tenure                    2          1          8         1          2\n",
      "balance                 0.0   83807.86   159660.8       0.0  125510.82\n",
      "num_of_products           1          1          3         2          1\n",
      "has_cr_card               1          0          1         0          1\n",
      "is_active_member          1          1          0         0          1\n",
      "estimated_salary  101348.88  112542.58  113931.57  93826.63    79084.1\n",
      "exited                    1          0          1         0          0\n"
     ]
    }
   ],
   "source": [
    "qb = DuckQueries()\n",
    "conn = qb.get_connection(path + \"/data/interim/churn.db\")\n",
    "\n",
    "query = qb.select(\"*\").from_table(\"churn\").limit(5).build()\n",
    "result = conn.execute(query).df()\n",
    "print(result.T)"
   ]
  },
  {
   "cell_type": "markdown",
   "metadata": {},
   "source": [
    "### 1.2 Data Dimensions"
   ]
  },
  {
   "cell_type": "code",
   "execution_count": 5,
   "metadata": {},
   "outputs": [
    {
     "name": "stdout",
     "output_type": "stream",
     "text": [
      "Number of rows: 10000 \n",
      "Number of columns: 14\n"
     ]
    }
   ],
   "source": [
    "query = qb.shape(\"churn\").build()\n",
    "result = conn.execute(query).df()\n",
    "\n",
    "rows = result.loc[0, \"row_count\"]\n",
    "columns = result.loc[0, \"column_count\"]\n",
    "\n",
    "print(f\"Number of rows: {rows} \\nNumber of columns: {columns}\")"
   ]
  },
  {
   "cell_type": "markdown",
   "metadata": {},
   "source": [
    "### 1.3 Check NA"
   ]
  },
  {
   "cell_type": "code",
   "execution_count": 6,
   "metadata": {},
   "outputs": [
    {
     "name": "stdout",
     "output_type": "stream",
     "text": [
      "                  0\n",
      "row_number        0\n",
      "customer_id       0\n",
      "surname           0\n",
      "credit_score      0\n",
      "geography         0\n",
      "gender            0\n",
      "age               0\n",
      "tenure            0\n",
      "balance           0\n",
      "num_of_products   0\n",
      "has_cr_card       0\n",
      "is_active_member  0\n",
      "estimated_salary  0\n",
      "exited            0\n"
     ]
    }
   ],
   "source": [
    "query = qb.count_nulls_from_table(\"churn\").build()\n",
    "fetch = query = conn.execute(query).fetchone()[0]\n",
    "result = conn.execute(f\"SELECT {fetch} FROM churn\").df()\n",
    "print(result.T)"
   ]
  },
  {
   "cell_type": "code",
   "execution_count": 7,
   "metadata": {},
   "outputs": [
    {
     "name": "stdout",
     "output_type": "stream",
     "text": [
      "                     0\n",
      "row_number           0\n",
      "customer_id          0\n",
      "credit_score         0\n",
      "age                  0\n",
      "tenure             413\n",
      "num_of_products      0\n",
      "has_cr_card       2945\n",
      "is_active_member  4849\n",
      "exited            7963\n",
      "balance           3617\n",
      "estimated_salary     0\n"
     ]
    }
   ],
   "source": [
    "query = qb.count_zeros_from_table(\"churn\").build()\n",
    "fetch = query = conn.execute(query).fetchone()[0]\n",
    "result = conn.execute(f\"SELECT {fetch} FROM churn\").df()\n",
    "print(result.T)"
   ]
  },
  {
   "cell_type": "markdown",
   "metadata": {},
   "source": [
    "### 1.4 Data Types"
   ]
  },
  {
   "cell_type": "code",
   "execution_count": 8,
   "metadata": {},
   "outputs": [
    {
     "name": "stdout",
     "output_type": "stream",
     "text": [
      "         column_name data_type\n",
      "0         row_number    BIGINT\n",
      "1        customer_id    BIGINT\n",
      "2            surname   VARCHAR\n",
      "3       credit_score    BIGINT\n",
      "4          geography   VARCHAR\n",
      "5             gender   VARCHAR\n",
      "6                age    BIGINT\n",
      "7             tenure    BIGINT\n",
      "8            balance    DOUBLE\n",
      "9    num_of_products    BIGINT\n",
      "10       has_cr_card    BIGINT\n",
      "11  is_active_member    BIGINT\n",
      "12  estimated_salary    DOUBLE\n",
      "13            exited    BIGINT\n"
     ]
    }
   ],
   "source": [
    "query = qb.column_types_from_table(\"churn\").build()\n",
    "result = conn.execute(query).df()\n",
    "print(result.iloc[:, 0:2])"
   ]
  },
  {
   "cell_type": "markdown",
   "metadata": {},
   "source": [
    "### 1.5 Descriptive Statistics"
   ]
  },
  {
   "cell_type": "code",
   "execution_count": 9,
   "metadata": {},
   "outputs": [
    {
     "data": {
      "text/html": [
       "<div>\n",
       "<style scoped>\n",
       "    .dataframe tbody tr th:only-of-type {\n",
       "        vertical-align: middle;\n",
       "    }\n",
       "\n",
       "    .dataframe tbody tr th {\n",
       "        vertical-align: top;\n",
       "    }\n",
       "\n",
       "    .dataframe thead th {\n",
       "        text-align: right;\n",
       "    }\n",
       "</style>\n",
       "<table border=\"1\" class=\"dataframe\">\n",
       "  <thead>\n",
       "    <tr style=\"text-align: right;\">\n",
       "      <th></th>\n",
       "      <th>is_active_member</th>\n",
       "      <th>exited</th>\n",
       "      <th>geography</th>\n",
       "      <th>has_cr_card</th>\n",
       "      <th>gender</th>\n",
       "    </tr>\n",
       "  </thead>\n",
       "  <tbody>\n",
       "    <tr>\n",
       "      <th>0</th>\n",
       "      <td>yes</td>\n",
       "      <td>yes</td>\n",
       "      <td>France</td>\n",
       "      <td>yes</td>\n",
       "      <td>Female</td>\n",
       "    </tr>\n",
       "    <tr>\n",
       "      <th>1</th>\n",
       "      <td>yes</td>\n",
       "      <td>no</td>\n",
       "      <td>Spain</td>\n",
       "      <td>no</td>\n",
       "      <td>Female</td>\n",
       "    </tr>\n",
       "    <tr>\n",
       "      <th>2</th>\n",
       "      <td>no</td>\n",
       "      <td>yes</td>\n",
       "      <td>France</td>\n",
       "      <td>yes</td>\n",
       "      <td>Female</td>\n",
       "    </tr>\n",
       "    <tr>\n",
       "      <th>3</th>\n",
       "      <td>no</td>\n",
       "      <td>no</td>\n",
       "      <td>France</td>\n",
       "      <td>no</td>\n",
       "      <td>Female</td>\n",
       "    </tr>\n",
       "    <tr>\n",
       "      <th>4</th>\n",
       "      <td>yes</td>\n",
       "      <td>no</td>\n",
       "      <td>Spain</td>\n",
       "      <td>yes</td>\n",
       "      <td>Female</td>\n",
       "    </tr>\n",
       "  </tbody>\n",
       "</table>\n",
       "</div>"
      ],
      "text/plain": [
       "  is_active_member exited geography has_cr_card  gender\n",
       "0              yes    yes    France         yes  Female\n",
       "1              yes     no     Spain          no  Female\n",
       "2               no    yes    France         yes  Female\n",
       "3               no     no    France          no  Female\n",
       "4              yes     no     Spain         yes  Female"
      ]
     },
     "execution_count": 9,
     "metadata": {},
     "output_type": "execute_result"
    }
   ],
   "source": [
    "query = qb.select(\"*\").from_table(\"churn\").build()\n",
    "df1 = conn.execute(query).df()\n",
    "conn.close()\n",
    "\n",
    "quantitative = df1.select_dtypes(include=[\"int64\", \"float64\"])\n",
    "quantitative.drop(\n",
    "    columns=[\"customer_id\", \"row_number\", \"has_cr_card\", \"is_active_member\", \"exited\"],\n",
    "    inplace=True,\n",
    ")\n",
    "\n",
    "qualitative = df1[[\"is_active_member\", \"exited\", \"geography\", \"has_cr_card\", \"gender\"]]\n",
    "qualitative = qualitative.astype(\"str\")\n",
    "\n",
    "change_types = [\"is_active_member\", \"exited\", \"has_cr_card\"]\n",
    "\n",
    "for column in change_types:\n",
    "    qualitative.loc[:, column] = qualitative[column].replace({\"1\": \"yes\", \"0\": \"no\"})\n",
    "\n",
    "qualitative.head()"
   ]
  },
  {
   "cell_type": "code",
   "execution_count": 10,
   "metadata": {},
   "outputs": [
    {
     "data": {
      "text/html": [
       "<div>\n",
       "<style scoped>\n",
       "    .dataframe tbody tr th:only-of-type {\n",
       "        vertical-align: middle;\n",
       "    }\n",
       "\n",
       "    .dataframe tbody tr th {\n",
       "        vertical-align: top;\n",
       "    }\n",
       "\n",
       "    .dataframe thead th {\n",
       "        text-align: right;\n",
       "    }\n",
       "</style>\n",
       "<table border=\"1\" class=\"dataframe\">\n",
       "  <thead>\n",
       "    <tr style=\"text-align: right;\">\n",
       "      <th></th>\n",
       "      <th>credit_score</th>\n",
       "      <th>age</th>\n",
       "      <th>tenure</th>\n",
       "      <th>balance</th>\n",
       "      <th>num_of_products</th>\n",
       "      <th>estimated_salary</th>\n",
       "    </tr>\n",
       "  </thead>\n",
       "  <tbody>\n",
       "    <tr>\n",
       "      <th>count</th>\n",
       "      <td>10000.000000</td>\n",
       "      <td>10000.000000</td>\n",
       "      <td>10000.000000</td>\n",
       "      <td>10000.000000</td>\n",
       "      <td>10000.000000</td>\n",
       "      <td>10000.000000</td>\n",
       "    </tr>\n",
       "    <tr>\n",
       "      <th>mean</th>\n",
       "      <td>650.528800</td>\n",
       "      <td>38.921800</td>\n",
       "      <td>5.012800</td>\n",
       "      <td>76485.889288</td>\n",
       "      <td>1.530200</td>\n",
       "      <td>100090.239881</td>\n",
       "    </tr>\n",
       "    <tr>\n",
       "      <th>std</th>\n",
       "      <td>96.653299</td>\n",
       "      <td>10.487806</td>\n",
       "      <td>2.892174</td>\n",
       "      <td>62397.405202</td>\n",
       "      <td>0.581654</td>\n",
       "      <td>57510.492818</td>\n",
       "    </tr>\n",
       "    <tr>\n",
       "      <th>min</th>\n",
       "      <td>350.000000</td>\n",
       "      <td>18.000000</td>\n",
       "      <td>0.000000</td>\n",
       "      <td>0.000000</td>\n",
       "      <td>1.000000</td>\n",
       "      <td>11.580000</td>\n",
       "    </tr>\n",
       "    <tr>\n",
       "      <th>25%</th>\n",
       "      <td>584.000000</td>\n",
       "      <td>32.000000</td>\n",
       "      <td>3.000000</td>\n",
       "      <td>0.000000</td>\n",
       "      <td>1.000000</td>\n",
       "      <td>51002.110000</td>\n",
       "    </tr>\n",
       "    <tr>\n",
       "      <th>50%</th>\n",
       "      <td>652.000000</td>\n",
       "      <td>37.000000</td>\n",
       "      <td>5.000000</td>\n",
       "      <td>97198.540000</td>\n",
       "      <td>1.000000</td>\n",
       "      <td>100193.915000</td>\n",
       "    </tr>\n",
       "    <tr>\n",
       "      <th>75%</th>\n",
       "      <td>718.000000</td>\n",
       "      <td>44.000000</td>\n",
       "      <td>7.000000</td>\n",
       "      <td>127644.240000</td>\n",
       "      <td>2.000000</td>\n",
       "      <td>149388.247500</td>\n",
       "    </tr>\n",
       "    <tr>\n",
       "      <th>max</th>\n",
       "      <td>850.000000</td>\n",
       "      <td>92.000000</td>\n",
       "      <td>10.000000</td>\n",
       "      <td>250898.090000</td>\n",
       "      <td>4.000000</td>\n",
       "      <td>199992.480000</td>\n",
       "    </tr>\n",
       "  </tbody>\n",
       "</table>\n",
       "</div>"
      ],
      "text/plain": [
       "       credit_score           age        tenure        balance  \\\n",
       "count  10000.000000  10000.000000  10000.000000   10000.000000   \n",
       "mean     650.528800     38.921800      5.012800   76485.889288   \n",
       "std       96.653299     10.487806      2.892174   62397.405202   \n",
       "min      350.000000     18.000000      0.000000       0.000000   \n",
       "25%      584.000000     32.000000      3.000000       0.000000   \n",
       "50%      652.000000     37.000000      5.000000   97198.540000   \n",
       "75%      718.000000     44.000000      7.000000  127644.240000   \n",
       "max      850.000000     92.000000     10.000000  250898.090000   \n",
       "\n",
       "       num_of_products  estimated_salary  \n",
       "count     10000.000000      10000.000000  \n",
       "mean          1.530200     100090.239881  \n",
       "std           0.581654      57510.492818  \n",
       "min           1.000000         11.580000  \n",
       "25%           1.000000      51002.110000  \n",
       "50%           1.000000     100193.915000  \n",
       "75%           2.000000     149388.247500  \n",
       "max           4.000000     199992.480000  "
      ]
     },
     "execution_count": 10,
     "metadata": {},
     "output_type": "execute_result"
    }
   ],
   "source": [
    "quantitative.describe(include=\"all\")"
   ]
  },
  {
   "cell_type": "code",
   "execution_count": 11,
   "metadata": {},
   "outputs": [
    {
     "data": {
      "text/html": [
       "<div>\n",
       "<style scoped>\n",
       "    .dataframe tbody tr th:only-of-type {\n",
       "        vertical-align: middle;\n",
       "    }\n",
       "\n",
       "    .dataframe tbody tr th {\n",
       "        vertical-align: top;\n",
       "    }\n",
       "\n",
       "    .dataframe thead th {\n",
       "        text-align: right;\n",
       "    }\n",
       "</style>\n",
       "<table border=\"1\" class=\"dataframe\">\n",
       "  <thead>\n",
       "    <tr style=\"text-align: right;\">\n",
       "      <th></th>\n",
       "      <th>is_active_member</th>\n",
       "      <th>exited</th>\n",
       "      <th>geography</th>\n",
       "      <th>has_cr_card</th>\n",
       "      <th>gender</th>\n",
       "    </tr>\n",
       "  </thead>\n",
       "  <tbody>\n",
       "    <tr>\n",
       "      <th>count</th>\n",
       "      <td>10000</td>\n",
       "      <td>10000</td>\n",
       "      <td>10000</td>\n",
       "      <td>10000</td>\n",
       "      <td>10000</td>\n",
       "    </tr>\n",
       "    <tr>\n",
       "      <th>unique</th>\n",
       "      <td>2</td>\n",
       "      <td>2</td>\n",
       "      <td>3</td>\n",
       "      <td>2</td>\n",
       "      <td>2</td>\n",
       "    </tr>\n",
       "    <tr>\n",
       "      <th>top</th>\n",
       "      <td>yes</td>\n",
       "      <td>no</td>\n",
       "      <td>France</td>\n",
       "      <td>yes</td>\n",
       "      <td>Male</td>\n",
       "    </tr>\n",
       "    <tr>\n",
       "      <th>freq</th>\n",
       "      <td>5151</td>\n",
       "      <td>7963</td>\n",
       "      <td>5014</td>\n",
       "      <td>7055</td>\n",
       "      <td>5457</td>\n",
       "    </tr>\n",
       "  </tbody>\n",
       "</table>\n",
       "</div>"
      ],
      "text/plain": [
       "       is_active_member exited geography has_cr_card gender\n",
       "count             10000  10000     10000       10000  10000\n",
       "unique                2      2         3           2      2\n",
       "top                 yes     no    France         yes   Male\n",
       "freq               5151   7963      5014        7055   5457"
      ]
     },
     "execution_count": 11,
     "metadata": {},
     "output_type": "execute_result"
    }
   ],
   "source": [
    "qualitative.describe(include=\"all\")"
   ]
  },
  {
   "cell_type": "code",
   "execution_count": 12,
   "metadata": {},
   "outputs": [],
   "source": [
    "fe = FeatureEngineering(seed = seed)\n",
    "X_train, X_test, X_val, y_train, y_test, y_val, id_train, id_test, id_val = fe.transform(df1)"
   ]
  },
  {
   "cell_type": "code",
   "execution_count": 13,
   "metadata": {},
   "outputs": [
    {
     "name": "stderr",
     "output_type": "stream",
     "text": [
      "INFO - There are no NA values in any column.\n"
     ]
    }
   ],
   "source": [
    "fe.report_na(X_train)"
   ]
  },
  {
   "cell_type": "code",
   "execution_count": 14,
   "metadata": {},
   "outputs": [
    {
     "name": "stderr",
     "output_type": "stream",
     "text": [
      "INFO - There are no NA values in any column.\n"
     ]
    }
   ],
   "source": [
    "fe.report_na(X_test)"
   ]
  },
  {
   "cell_type": "code",
   "execution_count": 15,
   "metadata": {},
   "outputs": [
    {
     "name": "stderr",
     "output_type": "stream",
     "text": [
      "INFO - There are no NA values in any column.\n"
     ]
    }
   ],
   "source": [
    "fe.report_na(X_val)"
   ]
  },
  {
   "cell_type": "code",
   "execution_count": 16,
   "metadata": {},
   "outputs": [
    {
     "name": "stderr",
     "output_type": "stream",
     "text": [
      "WARNING - File already exists. It will be overwritten.\n",
      "INFO - Data successfully saved\n"
     ]
    }
   ],
   "source": [
    "fe.save_data(X_train, path + \"/data/processed/X_train.parquet\")"
   ]
  },
  {
   "cell_type": "code",
   "execution_count": null,
   "metadata": {},
   "outputs": [],
   "source": []
  },
  {
   "cell_type": "code",
   "execution_count": null,
   "metadata": {},
   "outputs": [],
   "source": []
  }
 ],
 "metadata": {
  "kernelspec": {
   "display_name": ".venv",
   "language": "python",
   "name": "python3"
  },
  "language_info": {
   "codemirror_mode": {
    "name": "ipython",
    "version": 3
   },
   "file_extension": ".py",
   "mimetype": "text/x-python",
   "name": "python",
   "nbconvert_exporter": "python",
   "pygments_lexer": "ipython3",
   "version": "3.12.2"
  }
 },
 "nbformat": 4,
 "nbformat_minor": 2
}
